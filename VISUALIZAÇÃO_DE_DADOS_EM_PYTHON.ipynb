{
  "nbformat": 4,
  "nbformat_minor": 0,
  "metadata": {
    "colab": {
      "provenance": [],
      "authorship_tag": "ABX9TyNOuOiiw3JREpAXPZt7T0B4",
      "include_colab_link": true
    },
    "kernelspec": {
      "name": "python3",
      "display_name": "Python 3"
    },
    "language_info": {
      "name": "python"
    }
  },
  "cells": [
    {
      "cell_type": "markdown",
      "metadata": {
        "id": "view-in-github",
        "colab_type": "text"
      },
      "source": [
        "<a href=\"https://colab.research.google.com/github/ljunior456/Python-/blob/main/VISUALIZA%C3%87%C3%83O_DE_DADOS_EM_PYTHON.ipynb\" target=\"_parent\"><img src=\"https://colab.research.google.com/assets/colab-badge.svg\" alt=\"Open In Colab\"/></a>"
      ]
    },
    {
      "cell_type": "code",
      "execution_count": null,
      "metadata": {
        "id": "k43G0HkMl52A"
      },
      "outputs": [],
      "source": [
        "\n",
        "import sqlite3\n",
        "conexao = sqlite3.connect('Dados_vendas.db')\n",
        "\n",
        "cursor = conexao.cursor()\n",
        "\n",
        "cursor.execute('''\n",
        "CREATE TABLE vendas1 (\n",
        "id_venda INTEGER PRIMARY KEY AUTOINCREMENT,\n",
        "data_venda DATE,\n",
        "produto TEXT,\n",
        "categoria TEXT,\n",
        "valor_venda REAL\n",
        ")\n",
        "''')"
      ]
    },
    {
      "cell_type": "code",
      "source": [
        "cursor.execute('''\n",
        "INSERT INTO vendas1 (data_venda, produto, categoria, valor_venda) VALUES\n",
        "('2023-01-01', 'Produto A', 'Eletrônicos', 1500.00),\n",
        "('2023-01-05', 'Produto B', 'Roupas', 350.00),\n",
        "('2023-02-10', 'Produto C', 'Eletrônicos', 1200.00),\n",
        "('2023-03-15', 'Produto D', 'Livros', 200.00),\n",
        "('2023-03-20', 'Produto E', 'Eletrônicos', 800.00),\n",
        "('2023-04-02', 'Produto F', 'Roupas', 400.00),\n",
        "('2023-05-05', 'Produto G', 'Livros', 150.00),\n",
        "('2023-06-10', 'Produto H', 'Eletrônicos', 1000.00),\n",
        "('2023-07-20', 'Produto I', 'Roupas', 600.00),\n",
        "('2023-08-25', 'Produto J', 'Eletrônicos', 700.00),\n",
        "('2023-09-30', 'Produto K', 'Livros', 300.00),\n",
        "('2023-10-05', 'Produto L', 'Roupas', 450.00),\n",
        "('2023-11-15', 'Produto M', 'Eletrônicos', 900.00),\n",
        "('2023-12-20', 'Produto N', 'Livros', 250.00);\n",
        "''')"
      ],
      "metadata": {
        "id": "e0T-eCxumly5"
      },
      "execution_count": null,
      "outputs": []
    },
    {
      "cell_type": "code",
      "source": [
        "conexao.commit()"
      ],
      "metadata": {
        "id": "M50dHM5Fmw0V"
      },
      "execution_count": null,
      "outputs": []
    },
    {
      "cell_type": "code",
      "source": [
        "import pandas as pd\n",
        "import matplotlib.pyplot as plt\n",
        "import calendar\n",
        "#df_vendas = pd.read_sql_query('SELECT * FROM vendas1', conexao)\n",
        "\n",
        "\n",
        "\n",
        "print(\"\"\"\n",
        "  Menu\n",
        "  01-Vendas de uma Categoria Específica\n",
        "  02-Venda totais por categoria\n",
        "  03-Vendas por Mês\n",
        "  04-Sair\n",
        "\"\"\"\n",
        ")\n",
        "while True:\n",
        "  opcao = int(input(\"Digite a Opção Desejada:\"))\n",
        "#OPÇÃO 1: Vendas de uma Categoria Específica\n",
        "  if opcao == 1:\n",
        "    cat = {1:'Eletrônicos',2:'Roupas',3:'Livros'}\n",
        "    print(\"\"\"\n",
        "      Categorias:\n",
        "      01-Eletrônicos\n",
        "      02-Roupas\n",
        "      03-Livros\n",
        "    \"\"\")\n",
        "    categoria_desejada = int(input(\"Digite a Categoria Desejada:\"))\n",
        "    if categoria_desejada in cat:\n",
        "      categoria_nome = cat[categoria_desejada]\n",
        "      df_vendas = pd.read_sql_query(\"SELECT * FROM vendas1 WHERE categoria = ?\", conexao, params=(categoria_nome,))\n",
        "      #Gráfico\n",
        "      plt.bar(df_vendas['produto'],df_vendas['valor_venda'])\n",
        "      plt.xlabel('Produtos')\n",
        "      plt.ylabel('Valor Vendido em R$')\n",
        "      plt.title(f'Vendas de {categoria_nome}')\n",
        "      plt.show()\n",
        "    else:\n",
        "      print(\"Categoria Inválida\")\n",
        "#OPÇÃO 2:Venda totais por categoria\n",
        "  elif opcao ==  2:\n",
        "    df_vendas = pd.read_sql_query('SELECT categoria,SUM(valor_venda) AS total_vendas FROM vendas1 GROUP BY categoria',conexao)\n",
        "    #Gráfico\n",
        "    plt.bar(df_vendas['categoria'],df_vendas['total_vendas'])\n",
        "    plt.xlabel('Categorias')\n",
        "    plt.ylabel('Total de Vendas')\n",
        "    plt.title('Total de Vendas por Categoria')\n",
        "    plt.show()\n",
        "#OPÇÃO 3: Vendas por Mês\n",
        "  elif opcao == 3:\n",
        "    query = '''SELECT strftime('%m', data_venda) AS mes_num, SUM(valor_venda) AS total_venda FROM vendas1\n",
        "            GROUP BY mes_num\n",
        "            ORDER BY mes_num\n",
        "           '''\n",
        "    df_vendas = pd.read_sql_query(query,conexao)\n",
        "    df_vendas['mes_nome'] =  df_vendas['mes_num'].astype(int).apply(lambda x:calendar.month_name[x])\n",
        "    plt.bar(df_vendas['mes_nome'],df_vendas['total_venda'])\n",
        "    plt.xlabel('Mês')\n",
        "    plt.ylabel('Total de Vendas')\n",
        "    plt.title('Total de Vendas poe Mês')\n",
        "    plt.xticks(rotation=45)\n",
        "    plt.show()\n",
        "#OPÇÃO 4:SAIR\n",
        "  elif opcao == 4:\n",
        "    print(\"Obrigado por usar o programa !\")\n",
        "    break\n",
        "#OPÇÃO INVÁLIDA\n",
        "  else:\n",
        "    print(\"Opção Inválida\")"
      ],
      "metadata": {
        "colab": {
          "base_uri": "https://localhost:8080/"
        },
        "id": "wWJY_De3m4DM",
        "outputId": "e8f2ae2e-a63a-4518-c72b-af348b1d6f69"
      },
      "execution_count": null,
      "outputs": [
        {
          "output_type": "stream",
          "name": "stdout",
          "text": [
            "\n",
            "  Menu\n",
            "  01-Vendas de uma Categoria Específica\n",
            "  02-Venda totais por categoria\n",
            "  03-Vendas por Mês\n",
            "  04-Sair\n",
            "\n",
            "Digite a Opção Desejada:4\n",
            "Obrigado por usar o programa !\n"
          ]
        }
      ]
    }
  ]
}