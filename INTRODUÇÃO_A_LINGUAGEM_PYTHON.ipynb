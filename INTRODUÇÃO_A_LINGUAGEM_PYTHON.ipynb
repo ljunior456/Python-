{
  "nbformat": 4,
  "nbformat_minor": 0,
  "metadata": {
    "colab": {
      "provenance": [],
      "authorship_tag": "ABX9TyP6CAdxmn48ih9u/Tv80f+P",
      "include_colab_link": true
    },
    "kernelspec": {
      "name": "python3",
      "display_name": "Python 3"
    },
    "language_info": {
      "name": "python"
    }
  },
  "cells": [
    {
      "cell_type": "markdown",
      "metadata": {
        "id": "view-in-github",
        "colab_type": "text"
      },
      "source": [
        "<a href=\"https://colab.research.google.com/github/ljunior456/Python-/blob/main/INTRODU%C3%87%C3%83O_A_LINGUAGEM_PYTHON.ipynb\" target=\"_parent\"><img src=\"https://colab.research.google.com/assets/colab-badge.svg\" alt=\"Open In Colab\"/></a>"
      ]
    },
    {
      "cell_type": "code",
      "execution_count": 20,
      "metadata": {
        "colab": {
          "base_uri": "https://localhost:8080/"
        },
        "id": "V5Df5pc0TBZQ",
        "outputId": "aa784c02-7556-497f-c489-fe5d0f54bbdf"
      },
      "outputs": [
        {
          "output_type": "stream",
          "name": "stdout",
          "text": [
            "Digite a 1° nota:5\n",
            "Digite a 2° nota:4\n",
            "Digite a 3° nota:8\n",
            "A média do aluno foi de:5.67 pontos,ele está Reprovado\n"
          ]
        }
      ],
      "source": [
        "notas = []\n",
        "\n",
        "for i in range (3):\n",
        "  nota = float(input(f\"Digite a {i+1}° nota:\"))\n",
        "  notas.append(nota)\n",
        "\n",
        "media = sum(notas) / len(notas)\n",
        "\n",
        "if media >= 7:\n",
        "  print(f\"A média do aluno foi de:{media:.2f} pontos,ele está Aprovado\")\n",
        "elif media < 7:\n",
        "  print(f\"A média do aluno foi de:{media:.2f} pontos,ele está Reprovado\")\n",
        "else:\n",
        "  print(\"Notas Inválias tente novamente\")"
      ]
    }
  ]
}