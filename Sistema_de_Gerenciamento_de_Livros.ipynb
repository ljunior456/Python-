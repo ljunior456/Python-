{
  "nbformat": 4,
  "nbformat_minor": 0,
  "metadata": {
    "colab": {
      "provenance": [],
      "authorship_tag": "ABX9TyPqzjKl6QKW8q84QSbEcLbJ",
      "include_colab_link": true
    },
    "kernelspec": {
      "name": "python3",
      "display_name": "Python 3"
    },
    "language_info": {
      "name": "python"
    }
  },
  "cells": [
    {
      "cell_type": "markdown",
      "metadata": {
        "id": "view-in-github",
        "colab_type": "text"
      },
      "source": [
        "<a href=\"https://colab.research.google.com/github/ljunior456/Python-/blob/main/Sistema_de_Gerenciamento_de_Livros.ipynb\" target=\"_parent\"><img src=\"https://colab.research.google.com/assets/colab-badge.svg\" alt=\"Open In Colab\"/></a>"
      ]
    },
    {
      "cell_type": "code",
      "source": [],
      "metadata": {
        "id": "HT3oAiA12TgZ"
      },
      "execution_count": null,
      "outputs": []
    },
    {
      "cell_type": "code",
      "execution_count": null,
      "metadata": {
        "id": "3I7fJPkxzSpk",
        "colab": {
          "base_uri": "https://localhost:8080/"
        },
        "outputId": "8bf57313-e2d1-499c-81a8-c229c1a11ec1"
      },
      "outputs": [
        {
          "output_type": "stream",
          "name": "stdout",
          "text": [
            "\n",
            "Menu:\n",
            "1 - Cadastrar livro\n",
            "2 - Listar livros\n",
            "3 - Procurar Livro\n",
            "4 - Qtd de Livros por Gênero\n",
            "5 - Sair \n",
            "Escolha uma opção: 5\n",
            "Saindo do Programa\n"
          ]
        }
      ],
      "source": [
        "import matplotlib.pyplot as plt\n",
        "from collections import Counter\n",
        "\n",
        "class Book:\n",
        "  def __init__(self,title,author,gender):\n",
        "    self.title = title\n",
        "    self.author = author\n",
        "    self.gender = gender\n",
        "\n",
        "  def __str__(self):\n",
        "    return f\"Título: {self.title}, Autor: {self.author}, Gênero:{self.gender}\"\n",
        "\n",
        "Booklist=[]\n",
        "\n",
        "def cadastrar_livro():\n",
        "    while True:\n",
        "        title = input(\"Digite o Título do Livro: \")\n",
        "        author = input(\"Digite o Autor do Livro: \")\n",
        "        gender = input(\"Digite o Gênero do Livro: \")\n",
        "\n",
        "        novo_livro = Book(title, author, gender)\n",
        "        Booklist.append(novo_livro)\n",
        "        print(f\"O livro '{title}' foi cadastrado com sucesso!\")\n",
        "\n",
        "        while True:\n",
        "            continuar= input(\"Deseja cadastrar outro livro? (S/N): \").strip().upper()\n",
        "            if continuar.upper() == 'N':\n",
        "                return\n",
        "            elif continuar.upper() == 'S':\n",
        "                break\n",
        "            else:\n",
        "                print(\"Opção inválida. Digite apenas 'S' ou 'N'.\")\n",
        "\n",
        "def listar_livros():\n",
        "  for book in Booklist:\n",
        "    print(book)\n",
        "\n",
        "def procurar_livro():\n",
        "  titulo_procurado = input(\"Digite o título do livro que deseja procurar:\")\n",
        "  encontrado = False\n",
        "  for book in Booklist:\n",
        "    if book.title.lower() == titulo_procurado.lower():\n",
        "      print(book)\n",
        "      encontrado = True\n",
        "      break\n",
        "  if not encontrado:\n",
        "    print(\"Livro Não Encontrado\")\n",
        "\n",
        "def qtd_por_genero():\n",
        "  generos = [book.gender for book in Booklist]\n",
        "  contagem = Counter(generos)\n",
        "  plt.bar(contagem.keys(),contagem.values())\n",
        "  plt.title(\"Quantidade de livros por Gênero\")\n",
        "  plt.xlabel(\"Gênero\")\n",
        "  plt.ylabel(\"Quantidade\")\n",
        "  plt.show()\n",
        "\n",
        "while True:\n",
        "  print(\"\\nMenu:\")\n",
        "  print(\"1 - Cadastrar livro\")\n",
        "  print(\"2 - Listar livros\")\n",
        "  print(\"3 - Procurar Livro\")\n",
        "  print(\"4 - Qtd de Livros por Gênero\")\n",
        "  print(\"5 - Sair \")\n",
        "  opcao = input('Escolha uma opção: ')\n",
        "\n",
        "  if opcao == '1':\n",
        "    cadastrar_livro()\n",
        "  elif opcao == '2':\n",
        "    listar_livros()\n",
        "  elif opcao == '3':\n",
        "    procurar_livro()\n",
        "  elif opcao == '4':\n",
        "    qtd_por_genero()\n",
        "  elif opcao == '5':\n",
        "    print(\"Saindo do Programa\")\n",
        "    break\n",
        "  else :\n",
        "    print(\"Opção Inválida tente novamente\")"
      ]
    },
    {
      "cell_type": "markdown",
      "source": [
        "Para implementar esse sistema de cadastro de livros,precisei criar a classe Book para padronizar os inserts de novos livros a uma lista,Booklist.Como é um sistema para cadastro as funções seriam execuutadas multiplas vezes então decidi por criar as funções e depois chamá-las no menu que eu criei com opções usando um while,para encerrar quando o usuário requisitar a parada."
      ],
      "metadata": {
        "id": "vaDWof45K2RP"
      }
    }
  ]
}